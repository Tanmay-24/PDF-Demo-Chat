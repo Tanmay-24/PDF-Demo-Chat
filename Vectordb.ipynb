{
 "cells": [
  {
   "cell_type": "code",
   "execution_count": 2,
   "metadata": {},
   "outputs": [],
   "source": [
    "import numpy as np\n",
    "import faiss\n",
    "\n",
    "# Generate some data to index\n",
    "dimension = 128  # dimension of each vector\n",
    "num_data = 10000  # number of vectors\n",
    "np.random.seed(1)\n",
    "data = np.random.random((num_data, dimension)).astype('float32')\n",
    "\n",
    "# Generate some queries\n",
    "num_queries = 1000  # number of queries\n",
    "queries = np.random.random((num_queries, dimension)).astype('float32')\n",
    "\n",
    "# Create the index\n",
    "index = faiss.IndexFlatL2(dimension)\n",
    "\n",
    "# Move the index to the GPU\n",
    "res = faiss.StandardGpuResources()  # use a single GPU\n",
    "gpu_index = faiss.index_cpu_to_gpu(res, 0, index)\n",
    "\n",
    "# Add vectors to the index\n",
    "gpu_index.add(data)\n",
    "\n",
    "# Perform a search\n",
    "k = 10  # number of nearest neighbors to return\n",
    "distances, indices = gpu_index.search(queries, k)\n",
    "\n",
    "# distances[i, :] is the distances to the nearest neighbors of query i\n",
    "# indices[i, :] is the indices of the nearest neighbors of query i"
   ]
  },
  {
   "cell_type": "code",
   "execution_count": 3,
   "metadata": {},
   "outputs": [
    {
     "name": "stdout",
     "output_type": "stream",
     "text": [
      "1.8.0\n"
     ]
    }
   ],
   "source": [
    "print(faiss.__version__)"
   ]
  },
  {
   "cell_type": "code",
   "execution_count": 4,
   "metadata": {},
   "outputs": [
    {
     "name": "stdout",
     "output_type": "stream",
     "text": [
      "Number of GPUs: 1\n",
      "GPU acceleration is enabled.\n"
     ]
    }
   ],
   "source": [
    "import faiss\n",
    "\n",
    "num_gpus = faiss.get_num_gpus()\n",
    "print('Number of GPUs:', num_gpus)\n",
    "\n",
    "if num_gpus > 0:\n",
    "    print('GPU acceleration is enabled.')\n",
    "else:\n",
    "    print('GPU acceleration is not enabled.')"
   ]
  },
  {
   "cell_type": "code",
   "execution_count": 1,
   "metadata": {},
   "outputs": [
    {
     "name": "stdout",
     "output_type": "stream",
     "text": [
      "2.4.0\n"
     ]
    }
   ],
   "source": [
    "import pymilvus\n",
    "\n",
    "#check the version of pymilvus\n",
    "print(pymilvus.__version__)"
   ]
  },
  {
   "cell_type": "code",
   "execution_count": null,
   "metadata": {},
   "outputs": [],
   "source": []
  }
 ],
 "metadata": {
  "kernelspec": {
   "display_name": "Python 3 (ipykernel)",
   "language": "python",
   "name": "python3"
  },
  "language_info": {
   "codemirror_mode": {
    "name": "ipython",
    "version": 3
   },
   "file_extension": ".py",
   "mimetype": "text/x-python",
   "name": "python",
   "nbconvert_exporter": "python",
   "pygments_lexer": "ipython3",
   "version": "3.12.3"
  }
 },
 "nbformat": 4,
 "nbformat_minor": 2
}
